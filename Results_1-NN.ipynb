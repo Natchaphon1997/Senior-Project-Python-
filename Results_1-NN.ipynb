{
 "cells": [
  {
   "cell_type": "markdown",
   "metadata": {},
   "source": [
    "# IMPORT"
   ]
  },
  {
   "cell_type": "code",
   "execution_count": 7,
   "metadata": {},
   "outputs": [],
   "source": [
    "import numpy as np\n",
    "import pandas as pd\n",
    "import matplotlib.pyplot as plt\n",
    "import os\n",
    "import time\n",
    "import math"
   ]
  },
  {
   "cell_type": "markdown",
   "metadata": {},
   "source": [
    "# METHOD"
   ]
  },
  {
   "cell_type": "markdown",
   "metadata": {},
   "source": [
    "### Euclidean Distance(For Numpy Array)"
   ]
  },
  {
   "cell_type": "code",
   "execution_count": 8,
   "metadata": {},
   "outputs": [],
   "source": [
    "def np_euclidean(e1,e2):\n",
    "    return math.sqrt(math.fsum(list(map(lambda x: x**2 ,e1-e2))))"
   ]
  },
  {
   "cell_type": "markdown",
   "metadata": {},
   "source": [
    "### DTW"
   ]
  },
  {
   "cell_type": "code",
   "execution_count": 9,
   "metadata": {},
   "outputs": [],
   "source": [
    "def dtw_distance(s1, s2):\n",
    "    DTW={}\n",
    "\n",
    "    for i in range(len(s1)):\n",
    "        DTW[(i, -1)] = float('inf')\n",
    "    for i in range(len(s2)):\n",
    "        DTW[(-1, i)] = float('inf')\n",
    "    DTW[(-1, -1)] = 0\n",
    "\n",
    "    for i in range(len(s1)):\n",
    "        for j in range(len(s2)):\n",
    "            dist= (s1[i]-s2[j])**2\n",
    "            DTW[(i, j)] = dist + min(DTW[(i-1, j)],DTW[(i, j-1)], DTW[(i-1, j-1)])\n",
    "\n",
    "    return np.sqrt(DTW[len(s1)-1, len(s2)-1])"
   ]
  },
  {
   "cell_type": "markdown",
   "metadata": {},
   "source": [
    "### Generate Data and Results for each File"
   ]
  },
  {
   "cell_type": "code",
   "execution_count": 10,
   "metadata": {},
   "outputs": [],
   "source": [
    "def read_all_lines(file) :\n",
    "    with open(file, 'rt') as fd:\n",
    "        convert = [e.split() for e in fd.readlines()]\n",
    "        all_data = []\n",
    "        all_results = []\n",
    "        for line in convert:\n",
    "            data = line\n",
    "            result = data.pop(-1)\n",
    "            all_data.append(data)\n",
    "            all_results.append(result)\n",
    "            \n",
    "        float_data = []\n",
    "        for element in all_data:\n",
    "            float_data.append([float(e) for e in element])\n",
    "        float_data = np.array(float_data)\n",
    "        all_results = np.array(all_results)\n",
    "        \n",
    "        normalized_data = []\n",
    "        for element in float_data:\n",
    "            mean = math.fsum(element)/len(element)\n",
    "            std = math.sqrt(sum((element-mean)**2)/(len(element)-1))\n",
    "            normalized_data.append((element - mean)/std)\n",
    "        normalized_data = np.array(normalized_data)\n",
    "        return normalized_data, all_results"
   ]
  },
  {
   "cell_type": "markdown",
   "metadata": {},
   "source": [
    "### Calculate F1 Score"
   ]
  },
  {
   "cell_type": "code",
   "execution_count": 11,
   "metadata": {},
   "outputs": [],
   "source": [
    "def score_eu(test_data,test_results,mrcp_avg,noise_avg):\n",
    "    e_results = list()\n",
    "    TP = 0\n",
    "    TN = 0\n",
    "    FP = 0\n",
    "    FN = 0\n",
    "    for each_test_data in test_data:\n",
    "        e_class = None\n",
    "        min_dist = float('inf')\n",
    "        for avg in mrcp_avg:\n",
    "            dist = np_euclidean(each_test_data, avg) \n",
    "            if dist < min_dist:\n",
    "                min_dist = dist\n",
    "                e_class = 'MRCP'\n",
    "        for avg in noise_avg:\n",
    "            dist = np_euclidean(each_test_data, avg) \n",
    "            if dist < min_dist:\n",
    "                min_dist = dist\n",
    "                e_class = 'Noise'\n",
    "        e_results.append(e_class)\n",
    "    e_results = np.array(e_results)\n",
    "    for i in range(len(test_data)):\n",
    "        if e_results[i] == 'MRCP' and test_results[i] == 'MRCP' :\n",
    "            TP += 1\n",
    "        elif e_results[i] == 'MRCP' and test_results[i] == 'Noise' :\n",
    "            FP += 1\n",
    "        elif e_results[i] == 'Noise' and test_results[i] == 'MRCP' :\n",
    "            FN += 1\n",
    "        elif e_results[i] == 'Noise' and test_results[i] == 'Noise' :\n",
    "            TN += 1\n",
    "    precision = TP/(TP+FP)\n",
    "    recall = TP/(TP+FN)\n",
    "    accuracy = (TP+TN)/(TP+TN+FP+FN)*100\n",
    "    f1_score = (2*precision*recall)/(precision+recall)*100\n",
    "    return accuracy,f1_score\n",
    "\n",
    "def score_dtw(test_data,test_results,mrcp_avg,noise_avg):\n",
    "    e_results = list()\n",
    "    TP = 0\n",
    "    TN = 0\n",
    "    FP = 0\n",
    "    FN = 0\n",
    "    for each_test_data in test_data:\n",
    "        e_class = None\n",
    "        min_dist = float('inf')\n",
    "        for avg in mrcp_avg:\n",
    "            dist = dtw_distance(each_test_data, avg) \n",
    "            if dist < min_dist:\n",
    "                min_dist = dist\n",
    "                e_class = 'MRCP'\n",
    "        for avg in noise_avg:\n",
    "            dist = dtw_distance(each_test_data, avg) \n",
    "            if dist < min_dist:\n",
    "                min_dist = dist\n",
    "                e_class = 'Noise'\n",
    "        e_results.append(e_class)\n",
    "    e_results = np.array(e_results)\n",
    "    for i in range(len(test_data)):\n",
    "        if e_results[i] == 'MRCP' and test_results[i] == 'MRCP' :\n",
    "            TP += 1\n",
    "        elif e_results[i] == 'MRCP' and test_results[i] == 'Noise' :\n",
    "            FP += 1\n",
    "        elif e_results[i] == 'Noise' and test_results[i] == 'MRCP' :\n",
    "            FN += 1\n",
    "        elif e_results[i] == 'Noise' and test_results[i] == 'Noise' :\n",
    "            TN += 1\n",
    "    precision = TP/(TP+FP)\n",
    "    recall = TP/(TP+FN)\n",
    "    accuracy = (TP+TN)/(TP+TN+FP+FN)*100\n",
    "    f1_score = (2*precision*recall)/(precision+recall)*100\n",
    "    return accuracy,f1_score"
   ]
  },
  {
   "cell_type": "markdown",
   "metadata": {},
   "source": [
    "# 1-NN"
   ]
  },
  {
   "cell_type": "markdown",
   "metadata": {},
   "source": [
    "### Euclidean"
   ]
  },
  {
   "cell_type": "code",
   "execution_count": 12,
   "metadata": {},
   "outputs": [
    {
     "name": "stdout",
     "output_type": "stream",
     "text": [
      "*----------------------------------------1-NN Euclidean---------------------------------------------------------*\n",
      "Data Participant: 1 [] \n",
      "\n",
      "F1_score:  78.04878048780488\n",
      "-------------------------------------------------------------------------------------------------\n",
      "Data Participant: 2 [] \n",
      "\n",
      "F1_score:  92.03539823008849\n",
      "-------------------------------------------------------------------------------------------------\n",
      "Data Participant: 3 [] \n",
      "\n",
      "F1_score:  90.9090909090909\n",
      "-------------------------------------------------------------------------------------------------\n",
      "Data Participant: 4 [] \n",
      "\n",
      "F1_score:  61.53846153846153\n",
      "-------------------------------------------------------------------------------------------------\n",
      "Data Participant: 5 [] \n",
      "\n",
      "F1_score:  82.56880733944953\n",
      "-------------------------------------------------------------------------------------------------\n",
      "Data Participant: 6 [] \n",
      "\n",
      "F1_score:  70.9090909090909\n",
      "-------------------------------------------------------------------------------------------------\n",
      "Data Participant: 7 [] \n",
      "\n",
      "F1_score:  63.44827586206897\n",
      "-------------------------------------------------------------------------------------------------\n",
      "Data Participant: 8 [] \n",
      "\n",
      "F1_score:  72.85714285714285\n",
      "-------------------------------------------------------------------------------------------------\n",
      "Data Participant: 9 [] \n",
      "\n",
      "F1_score:  71.42857142857143\n",
      "-------------------------------------------------------------------------------------------------\n"
     ]
    }
   ],
   "source": [
    "print('*----------------------------------------1-NN Euclidean----------------------------------------*')\n",
    "for i in range(1,10):\n",
    "    data , results = read_all_lines('training data/participant_'+str(i)+'.txt')\n",
    "    test_data , test_results = read_all_lines('test data/participant_'+str(i)+'.txt')\n",
    "    print('Data Participant:',i,data[:0],'\\n')\n",
    "    \n",
    "    mrcp_data = list()\n",
    "    noise_data = list()\n",
    "    mrcp_result = list()\n",
    "    noise_result = list()\n",
    "\n",
    "    for each_data, each_result in zip(data,results):\n",
    "        if each_result == 'MRCP':\n",
    "            mrcp_data.append(each_data)\n",
    "            mrcp_result.append(each_result)\n",
    "        else:\n",
    "            noise_data.append(each_data)\n",
    "            noise_result.append(each_result)\n",
    "\n",
    "    mrcp_data = np.array(mrcp_data)\n",
    "    noise_data = np.array(noise_data)\n",
    "    mrcp_results = np.array(mrcp_result)\n",
    "    noise_results = np.array(noise_result)\n",
    "    accuracy, f1_score = score_eu(test_data,test_results,mrcp_data,noise_data)\n",
    "    \n",
    "    print('F1_score: ',f1_score)\n",
    "    print('-------------------------------------------------------------------------------------------------')"
   ]
  },
  {
   "cell_type": "markdown",
   "metadata": {},
   "source": [
    "### DTW"
   ]
  },
  {
   "cell_type": "code",
   "execution_count": 13,
   "metadata": {},
   "outputs": [
    {
     "name": "stdout",
     "output_type": "stream",
     "text": [
      "*----------------------------------------1-NN DTW---------------------------------------------------------*\n",
      "Data Participant: 1 [] \n",
      "\n",
      "F1_score:  72.58064516129032\n",
      "-------------------------------------------------------------------------------------------------\n",
      "Data Participant: 2 [] \n",
      "\n",
      "F1_score:  95.79831932773108\n",
      "-------------------------------------------------------------------------------------------------\n",
      "Data Participant: 3 [] \n",
      "\n",
      "F1_score:  94.21487603305785\n",
      "-------------------------------------------------------------------------------------------------\n",
      "Data Participant: 4 [] \n",
      "\n",
      "F1_score:  53.57142857142857\n",
      "-------------------------------------------------------------------------------------------------\n",
      "Data Participant: 5 [] \n",
      "\n",
      "F1_score:  84.21052631578948\n",
      "-------------------------------------------------------------------------------------------------\n",
      "Data Participant: 6 [] \n",
      "\n",
      "F1_score:  74.28571428571428\n",
      "-------------------------------------------------------------------------------------------------\n",
      "Data Participant: 7 [] \n",
      "\n",
      "F1_score:  68.45637583892618\n",
      "-------------------------------------------------------------------------------------------------\n",
      "Data Participant: 8 [] \n",
      "\n",
      "F1_score:  71.94244604316546\n",
      "-------------------------------------------------------------------------------------------------\n",
      "Data Participant: 9 [] \n",
      "\n",
      "F1_score:  73.2824427480916\n",
      "-------------------------------------------------------------------------------------------------\n"
     ]
    }
   ],
   "source": [
    "print('*----------------------------------------1-NN DTW----------------------------------------*')\n",
    "for i in range(1,10):\n",
    "    data , results = read_all_lines('training data/participant_'+str(i)+'.txt')\n",
    "    test_data , test_results = read_all_lines('test data/participant_'+str(i)+'.txt')\n",
    "    print('Data Participant:',i,data[:0],'\\n')\n",
    "    \n",
    "    mrcp_data = list()\n",
    "    noise_data = list()\n",
    "    mrcp_result = list()\n",
    "    noise_result = list()\n",
    "\n",
    "    for each_data, each_result in zip(data,results):\n",
    "        if each_result == 'MRCP':\n",
    "            mrcp_data.append(each_data)\n",
    "            mrcp_result.append(each_result)\n",
    "        else:\n",
    "            noise_data.append(each_data)\n",
    "            noise_result.append(each_result)\n",
    "\n",
    "    mrcp_data = np.array(mrcp_data)\n",
    "    noise_data = np.array(noise_data)\n",
    "    mrcp_results = np.array(mrcp_result)\n",
    "    noise_results = np.array(noise_result)\n",
    "    accuracy, f1_score = score_dtw(test_data,test_results,mrcp_data,noise_data)\n",
    "    \n",
    "    print('F1_score: ',f1_score)\n",
    "    print('-------------------------------------------------------------------------------------------------')"
   ]
  }
 ],
 "metadata": {
  "kernelspec": {
   "display_name": "Python 3",
   "language": "python",
   "name": "python3"
  },
  "language_info": {
   "codemirror_mode": {
    "name": "ipython",
    "version": 3
   },
   "file_extension": ".py",
   "mimetype": "text/x-python",
   "name": "python",
   "nbconvert_exporter": "python",
   "pygments_lexer": "ipython3",
   "version": "3.6.5"
  }
 },
 "nbformat": 4,
 "nbformat_minor": 2
}
